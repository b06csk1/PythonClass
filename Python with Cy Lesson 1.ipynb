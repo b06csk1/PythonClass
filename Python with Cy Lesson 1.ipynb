{
 "cells": [
  {
   "cell_type": "code",
   "execution_count": 1,
   "id": "458b281b",
   "metadata": {},
   "outputs": [
    {
     "name": "stdout",
     "output_type": "stream",
     "text": [
      "Hello World!\n"
     ]
    }
   ],
   "source": [
    "#    This is the first lesson for Python coding with Cy\n",
    "'''\n",
    "    this is a multiline \n",
    "    test box for class\n",
    "'''\n",
    "print(\"Hello World!\")"
   ]
  },
  {
   "cell_type": "code",
   "execution_count": 2,
   "id": "f5a89538",
   "metadata": {},
   "outputs": [
    {
     "name": "stdout",
     "output_type": "stream",
     "text": [
      "=======><=======\n",
      "====>      <====\n",
      "==>    CK    <==\n",
      "====>      <====\n",
      "=======><=======\n"
     ]
    }
   ],
   "source": [
    "print(\"=======><=======\")\n",
    "print(\"====>      <====\")\n",
    "print(\"==>    CK    <==\")\n",
    "print(\"====>      <====\")\n",
    "print(\"=======><=======\")"
   ]
  },
  {
   "cell_type": "code",
   "execution_count": null,
   "id": "48c16de6",
   "metadata": {},
   "outputs": [],
   "source": []
  }
 ],
 "metadata": {
  "kernelspec": {
   "display_name": "Python 3",
   "language": "python",
   "name": "python3"
  },
  "language_info": {
   "codemirror_mode": {
    "name": "ipython",
    "version": 3
   },
   "file_extension": ".py",
   "mimetype": "text/x-python",
   "name": "python",
   "nbconvert_exporter": "python",
   "pygments_lexer": "ipython3",
   "version": "3.8.8"
  }
 },
 "nbformat": 4,
 "nbformat_minor": 5
}
