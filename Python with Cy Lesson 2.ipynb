{
 "cells": [
  {
   "cell_type": "code",
   "execution_count": 1,
   "id": "31b07458",
   "metadata": {},
   "outputs": [],
   "source": [
    "from pyfiglet import figlet_format"
   ]
  },
  {
   "cell_type": "code",
   "execution_count": 2,
   "id": "a8bba6b7",
   "metadata": {},
   "outputs": [
    {
     "name": "stdout",
     "output_type": "stream",
     "text": [
      "<class 'int'>\n",
      "152\n",
      "<class 'int'>\n",
      "79\n",
      "<class 'str'>\n",
      "73 points\n",
      "<class 'str'>\n",
      "MEMPHIS GRIZZLIES\n",
      "<class 'str'>\n",
      "Oklahoma City Thunder\n",
      "<class 'int'>\n",
      "31\n"
     ]
    }
   ],
   "source": [
    "Score_A = 152                       #   int\n",
    "Score_B = 79                        #   int\n",
    "Win_Total = '73 points'             #   string\n",
    "Team_A = \"Memphis Grizzlies\"        #   string\n",
    "Team_B = \"Oklahoma City Thunder\"    #   string\n",
    "Record = 31                         #   int\n",
    "\n",
    "print(type(Score_A))\n",
    "print(Score_A)\n",
    "print(type(Score_B))\n",
    "print(Score_B)\n",
    "print(type(Win_Total))\n",
    "print(Win_Total)\n",
    "print(type(Team_A))\n",
    "print(Team_A.upper())\n",
    "print(type(Team_B))\n",
    "print(Team_B)\n",
    "print(type(Record))\n",
    "print(Record)"
   ]
  },
  {
   "cell_type": "code",
   "execution_count": 3,
   "id": "34c8eace",
   "metadata": {},
   "outputs": [
    {
     "name": "stdout",
     "output_type": "stream",
     "text": [
      "The Memphis Grizzlies beat the Oklahoma City Thunder a whopping 152 - 79 to earn the record for the largest win ( 73 points )\n",
      "in NBA history breaking a 31 year old record.\n"
     ]
    }
   ],
   "source": [
    "print(\n",
    "      \"The\", Team_A,\"beat the\", Team_B,\"a whopping\", Score_A,\"-\", Score_B,\n",
    "      \"to earn the record for the largest win (\", Win_Total,\")\" \"\\n\" \\\n",
    "      \"in NBA history breaking a\", Record, \"year old record.\"\n",
    "      )\n",
    "\n"
   ]
  },
  {
   "cell_type": "code",
   "execution_count": 4,
   "id": "bb7f38a6",
   "metadata": {},
   "outputs": [
    {
     "name": "stdout",
     "output_type": "stream",
     "text": [
      "$ CK $\n",
      "                                                 \n",
      "                                                 \n",
      "    __//_        //   ) )  //   / /       __//_  \n",
      "   ( //  )      //        //__ / /       ( //  ) \n",
      "    \\\\         //        //__  /          \\\\     \n",
      "(__//_)       //        //   \\ \\      (__//_)    \n",
      "  //         ((____/ / //     \\ \\       //       \n",
      "\n"
     ]
    }
   ],
   "source": [
    "text = \"$ CK $\"\n",
    "print(text)\n",
    "result = figlet_format(text, font=\"5lineoblique\")\n",
    "print(result)"
   ]
  }
 ],
 "metadata": {
  "kernelspec": {
   "display_name": "Python 3",
   "language": "python",
   "name": "python3"
  },
  "language_info": {
   "codemirror_mode": {
    "name": "ipython",
    "version": 3
   },
   "file_extension": ".py",
   "mimetype": "text/x-python",
   "name": "python",
   "nbconvert_exporter": "python",
   "pygments_lexer": "ipython3",
   "version": "3.8.8"
  }
 },
 "nbformat": 4,
 "nbformat_minor": 5
}
